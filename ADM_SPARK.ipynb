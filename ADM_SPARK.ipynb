{
  "cells": [
    {
      "cell_type": "markdown",
      "metadata": {
        "id": "view-in-github",
        "colab_type": "text"
      },
      "source": [
        "<a href=\"https://colab.research.google.com/github/simonacarusooo/Algorithms-for-Massive-Datasets/blob/main/ADM_SPARK.ipynb\" target=\"_parent\"><img src=\"https://colab.research.google.com/assets/colab-badge.svg\" alt=\"Open In Colab\"/></a>"
      ]
    },
    {
      "cell_type": "markdown",
      "source": [
        "# LINK ANALYSIS IN SPARK\n"
      ],
      "metadata": {
        "id": "XglPAFWE9Lu1"
      }
    },
    {
      "cell_type": "markdown",
      "source": [
        "##  1. Data Import"
      ],
      "metadata": {
        "id": "Ua8Lbg069-zZ"
      }
    },
    {
      "cell_type": "markdown",
      "source": [
        "For the purpose of the analysis, the dataframe has been reduced to 4 columns: \n",
        "\n",
        "\n",
        "*   customer_id\n",
        "*   review_id\n",
        "* product_id\n",
        "* product_title\n",
        "\n",
        "\n",
        "Furthermore, just 100000 reviews of product category \"Electronics\" has been considered\n",
        "\n",
        "\n",
        "---\n",
        "\n",
        "\n",
        "\n"
      ],
      "metadata": {
        "id": "lpG3OPPm_jbd"
      }
    },
    {
      "cell_type": "code",
      "execution_count": 3,
      "metadata": {
        "id": "6c8vbFRAC9yj"
      },
      "outputs": [],
      "source": [
        "import csv\n",
        "import os \n",
        "import pandas as pd   \n",
        "import numpy as np\n",
        "import matplotlib.pyplot as plt"
      ]
    },
    {
      "cell_type": "code",
      "execution_count": 4,
      "metadata": {
        "colab": {
          "base_uri": "https://localhost:8080/"
        },
        "id": "wVQNLkGXlIaX",
        "outputId": "00b8ba73-2149-4201-da6c-d7198cebc44b"
      },
      "outputs": [
        {
          "output_type": "stream",
          "name": "stdout",
          "text": [
            "Downloading amazon-us-customer-reviews-dataset.zip to /content\n",
            "100% 21.0G/21.0G [03:25<00:00, 91.4MB/s]\n",
            "100% 21.0G/21.0G [03:25<00:00, 109MB/s] \n"
          ]
        }
      ],
      "source": [
        "import os\n",
        "os.environ['KAGGLE_USERNAME'] = \"simonacaruso99\"\n",
        "os.environ['KAGGLE_KEY'] = \"xxxxxx\"\n",
        "!kaggle datasets download -d cynthiarempel/amazon-us-customer-reviews-dataset"
      ]
    },
    {
      "cell_type": "code",
      "execution_count": 5,
      "metadata": {
        "colab": {
          "base_uri": "https://localhost:8080/",
          "height": 224
        },
        "id": "XZOSWRSWB01G",
        "outputId": "cdddd726-e5ef-4e7c-c59b-5c52a3e85ce0"
      },
      "outputs": [
        {
          "output_type": "stream",
          "name": "stdout",
          "text": [
            "(100000, 4)\n"
          ]
        },
        {
          "output_type": "execute_result",
          "data": {
            "text/plain": [
              "   customer_id       review_id  product_id  \\\n",
              "0     41409413  R2MTG1GCZLR2DK  B00428R89M   \n",
              "1     49668221  R2HBOEM8LE9928  B000068O48   \n",
              "2     12338275  R1P4RW1R9FDPEE  B000GGKOG8   \n",
              "3     38487968  R1EBPM82ENI67M  B000NU4OTA   \n",
              "4     23732619  R372S58V6D11AT  B00JOQIO6S   \n",
              "\n",
              "                                       product_title  \n",
              "0  yoomall 5M Antenna WIFI RP-SMA Female to Male ...  \n",
              "1         Hosa GPM-103 3.5mm TRS to 1/4\" TRS Adaptor  \n",
              "2        Channel Master Titan 2 Antenna Preamplifier  \n",
              "3  LIMTECH Wall charger + USB Hotsync & Charging ...  \n",
              "4     Skullcandy Air Raid Portable Bluetooth Speaker  "
            ],
            "text/html": [
              "\n",
              "  <div id=\"df-113a91cc-b24f-4bfc-88fe-a3435acc12b8\">\n",
              "    <div class=\"colab-df-container\">\n",
              "      <div>\n",
              "<style scoped>\n",
              "    .dataframe tbody tr th:only-of-type {\n",
              "        vertical-align: middle;\n",
              "    }\n",
              "\n",
              "    .dataframe tbody tr th {\n",
              "        vertical-align: top;\n",
              "    }\n",
              "\n",
              "    .dataframe thead th {\n",
              "        text-align: right;\n",
              "    }\n",
              "</style>\n",
              "<table border=\"1\" class=\"dataframe\">\n",
              "  <thead>\n",
              "    <tr style=\"text-align: right;\">\n",
              "      <th></th>\n",
              "      <th>customer_id</th>\n",
              "      <th>review_id</th>\n",
              "      <th>product_id</th>\n",
              "      <th>product_title</th>\n",
              "    </tr>\n",
              "  </thead>\n",
              "  <tbody>\n",
              "    <tr>\n",
              "      <th>0</th>\n",
              "      <td>41409413</td>\n",
              "      <td>R2MTG1GCZLR2DK</td>\n",
              "      <td>B00428R89M</td>\n",
              "      <td>yoomall 5M Antenna WIFI RP-SMA Female to Male ...</td>\n",
              "    </tr>\n",
              "    <tr>\n",
              "      <th>1</th>\n",
              "      <td>49668221</td>\n",
              "      <td>R2HBOEM8LE9928</td>\n",
              "      <td>B000068O48</td>\n",
              "      <td>Hosa GPM-103 3.5mm TRS to 1/4\" TRS Adaptor</td>\n",
              "    </tr>\n",
              "    <tr>\n",
              "      <th>2</th>\n",
              "      <td>12338275</td>\n",
              "      <td>R1P4RW1R9FDPEE</td>\n",
              "      <td>B000GGKOG8</td>\n",
              "      <td>Channel Master Titan 2 Antenna Preamplifier</td>\n",
              "    </tr>\n",
              "    <tr>\n",
              "      <th>3</th>\n",
              "      <td>38487968</td>\n",
              "      <td>R1EBPM82ENI67M</td>\n",
              "      <td>B000NU4OTA</td>\n",
              "      <td>LIMTECH Wall charger + USB Hotsync &amp; Charging ...</td>\n",
              "    </tr>\n",
              "    <tr>\n",
              "      <th>4</th>\n",
              "      <td>23732619</td>\n",
              "      <td>R372S58V6D11AT</td>\n",
              "      <td>B00JOQIO6S</td>\n",
              "      <td>Skullcandy Air Raid Portable Bluetooth Speaker</td>\n",
              "    </tr>\n",
              "  </tbody>\n",
              "</table>\n",
              "</div>\n",
              "      <button class=\"colab-df-convert\" onclick=\"convertToInteractive('df-113a91cc-b24f-4bfc-88fe-a3435acc12b8')\"\n",
              "              title=\"Convert this dataframe to an interactive table.\"\n",
              "              style=\"display:none;\">\n",
              "        \n",
              "  <svg xmlns=\"http://www.w3.org/2000/svg\" height=\"24px\"viewBox=\"0 0 24 24\"\n",
              "       width=\"24px\">\n",
              "    <path d=\"M0 0h24v24H0V0z\" fill=\"none\"/>\n",
              "    <path d=\"M18.56 5.44l.94 2.06.94-2.06 2.06-.94-2.06-.94-.94-2.06-.94 2.06-2.06.94zm-11 1L8.5 8.5l.94-2.06 2.06-.94-2.06-.94L8.5 2.5l-.94 2.06-2.06.94zm10 10l.94 2.06.94-2.06 2.06-.94-2.06-.94-.94-2.06-.94 2.06-2.06.94z\"/><path d=\"M17.41 7.96l-1.37-1.37c-.4-.4-.92-.59-1.43-.59-.52 0-1.04.2-1.43.59L10.3 9.45l-7.72 7.72c-.78.78-.78 2.05 0 2.83L4 21.41c.39.39.9.59 1.41.59.51 0 1.02-.2 1.41-.59l7.78-7.78 2.81-2.81c.8-.78.8-2.07 0-2.86zM5.41 20L4 18.59l7.72-7.72 1.47 1.35L5.41 20z\"/>\n",
              "  </svg>\n",
              "      </button>\n",
              "      \n",
              "  <style>\n",
              "    .colab-df-container {\n",
              "      display:flex;\n",
              "      flex-wrap:wrap;\n",
              "      gap: 12px;\n",
              "    }\n",
              "\n",
              "    .colab-df-convert {\n",
              "      background-color: #E8F0FE;\n",
              "      border: none;\n",
              "      border-radius: 50%;\n",
              "      cursor: pointer;\n",
              "      display: none;\n",
              "      fill: #1967D2;\n",
              "      height: 32px;\n",
              "      padding: 0 0 0 0;\n",
              "      width: 32px;\n",
              "    }\n",
              "\n",
              "    .colab-df-convert:hover {\n",
              "      background-color: #E2EBFA;\n",
              "      box-shadow: 0px 1px 2px rgba(60, 64, 67, 0.3), 0px 1px 3px 1px rgba(60, 64, 67, 0.15);\n",
              "      fill: #174EA6;\n",
              "    }\n",
              "\n",
              "    [theme=dark] .colab-df-convert {\n",
              "      background-color: #3B4455;\n",
              "      fill: #D2E3FC;\n",
              "    }\n",
              "\n",
              "    [theme=dark] .colab-df-convert:hover {\n",
              "      background-color: #434B5C;\n",
              "      box-shadow: 0px 1px 3px 1px rgba(0, 0, 0, 0.15);\n",
              "      filter: drop-shadow(0px 1px 2px rgba(0, 0, 0, 0.3));\n",
              "      fill: #FFFFFF;\n",
              "    }\n",
              "  </style>\n",
              "\n",
              "      <script>\n",
              "        const buttonEl =\n",
              "          document.querySelector('#df-113a91cc-b24f-4bfc-88fe-a3435acc12b8 button.colab-df-convert');\n",
              "        buttonEl.style.display =\n",
              "          google.colab.kernel.accessAllowed ? 'block' : 'none';\n",
              "\n",
              "        async function convertToInteractive(key) {\n",
              "          const element = document.querySelector('#df-113a91cc-b24f-4bfc-88fe-a3435acc12b8');\n",
              "          const dataTable =\n",
              "            await google.colab.kernel.invokeFunction('convertToInteractive',\n",
              "                                                     [key], {});\n",
              "          if (!dataTable) return;\n",
              "\n",
              "          const docLinkHtml = 'Like what you see? Visit the ' +\n",
              "            '<a target=\"_blank\" href=https://colab.research.google.com/notebooks/data_table.ipynb>data table notebook</a>'\n",
              "            + ' to learn more about interactive tables.';\n",
              "          element.innerHTML = '';\n",
              "          dataTable['output_type'] = 'display_data';\n",
              "          await google.colab.output.renderOutput(dataTable, element);\n",
              "          const docLink = document.createElement('div');\n",
              "          docLink.innerHTML = docLinkHtml;\n",
              "          element.appendChild(docLink);\n",
              "        }\n",
              "      </script>\n",
              "    </div>\n",
              "  </div>\n",
              "  "
            ]
          },
          "metadata": {},
          "execution_count": 5
        }
      ],
      "source": [
        "import zipfile\n",
        "\n",
        "zip_file = zipfile.ZipFile('/content/amazon-us-customer-reviews-dataset.zip')\n",
        "\n",
        "df = pd.DataFrame({'marketplace': pd.Series([], dtype='str'),\n",
        "              'customer_id': pd.Series([], dtype='str'),\n",
        "              'review_id': pd.Series([], dtype='str'),\n",
        "              'product_id': pd.Series([], dtype='str'),\n",
        "              'product_parent': pd.Series([], dtype='str'),\n",
        "              'product_title': pd.Series([], dtype='str'),\n",
        "              'product_category': pd.Series([], dtype='str'),\n",
        "              'star_rating': pd.Series([], dtype='int'),\n",
        "              'helpful_votes': pd.Series([], dtype='int'),\n",
        "              'total_votes': pd.Series([], dtype='int'),\n",
        "              'vine': pd.Series([], dtype='str'),\n",
        "              'verified_purchase': pd.Series([], dtype='str'),\n",
        "              'review_headline': pd.Series([], dtype='str'),\n",
        "              'review_body': pd.Series([], dtype='str'),\n",
        "              'review': pd.Series([], dtype='str'),\n",
        "              'review_date': pd.Series([], dtype='float')})\n",
        "\n",
        "\n",
        "filenames = ['amazon_reviews_us_Electronics_v1_00.tsv']\n",
        "\n",
        "for filename in filenames:\n",
        "    with zip_file.open(filename) as f:\n",
        "        size = 100000\n",
        "        df = pd.read_csv(f, sep='\\t', header=0, quoting=csv.QUOTE_NONE, nrows=size)\n",
        "\n",
        "df = df.loc[:, ['customer_id', 'review_id', 'product_id','product_title']]\n",
        "print(df.shape)\n",
        "df.head()"
      ]
    },
    {
      "cell_type": "code",
      "execution_count": 6,
      "metadata": {
        "colab": {
          "base_uri": "https://localhost:8080/"
        },
        "id": "pp1ci1M3N2b8",
        "outputId": "5a30086d-4115-487b-f742-da4e2165cd42"
      },
      "outputs": [
        {
          "output_type": "stream",
          "name": "stdout",
          "text": [
            "Looking in indexes: https://pypi.org/simple, https://us-python.pkg.dev/colab-wheels/public/simple/\n",
            "Collecting pyspark\n",
            "  Downloading pyspark-3.4.0.tar.gz (310.8 MB)\n",
            "\u001b[2K     \u001b[90m━━━━━━━━━━━━━━━━━━━━━━━━━━━━━━━━━━━━━━━\u001b[0m \u001b[32m310.8/310.8 MB\u001b[0m \u001b[31m4.1 MB/s\u001b[0m eta \u001b[36m0:00:00\u001b[0m\n",
            "\u001b[?25h  Preparing metadata (setup.py) ... \u001b[?25l\u001b[?25hdone\n",
            "Requirement already satisfied: py4j==0.10.9.7 in /usr/local/lib/python3.10/dist-packages (from pyspark) (0.10.9.7)\n",
            "Building wheels for collected packages: pyspark\n",
            "  Building wheel for pyspark (setup.py) ... \u001b[?25l\u001b[?25hdone\n",
            "  Created wheel for pyspark: filename=pyspark-3.4.0-py2.py3-none-any.whl size=311317145 sha256=c9acceac5e7b6ea0c2914e9e385022d9f7979334a112d0a080056dcd2364beb3\n",
            "  Stored in directory: /root/.cache/pip/wheels/7b/1b/4b/3363a1d04368e7ff0d408e57ff57966fcdf00583774e761327\n",
            "Successfully built pyspark\n",
            "Installing collected packages: pyspark\n",
            "Successfully installed pyspark-3.4.0\n"
          ]
        }
      ],
      "source": [
        "!pip install pyspark\n",
        "from pyspark import SparkContext, SparkConf\n",
        "from pyspark.sql import SparkSession\n",
        "\n",
        "conf = SparkConf().setAppName(\"Amazon Customer Reviews\").setMaster(\"local[*]\")\n",
        "sc = SparkContext.getOrCreate(conf=conf)\n",
        "spark = SparkSession.builder.appName(\"Amazon Customer Reviews\").getOrCreate()"
      ]
    },
    {
      "cell_type": "markdown",
      "source": [
        "## 2. Data exploration"
      ],
      "metadata": {
        "id": "K8tG2cDk-RSv"
      }
    },
    {
      "cell_type": "markdown",
      "source": [
        "There are not Null values, so the entire dataset can be used for the analysis\n",
        "\n",
        "\n",
        "---\n",
        "\n"
      ],
      "metadata": {
        "id": "VFM6btAl_O2R"
      }
    },
    {
      "cell_type": "code",
      "execution_count": 7,
      "metadata": {
        "colab": {
          "base_uri": "https://localhost:8080/"
        },
        "id": "qo-SKGMD7bii",
        "outputId": "3096f66b-74b4-4b11-9461-f1e46d0fd799"
      },
      "outputs": [
        {
          "output_type": "stream",
          "name": "stdout",
          "text": [
            "<class 'pandas.core.frame.DataFrame'>\n",
            "RangeIndex: 100000 entries, 0 to 99999\n",
            "Data columns (total 4 columns):\n",
            " #   Column         Non-Null Count   Dtype \n",
            "---  ------         --------------   ----- \n",
            " 0   customer_id    100000 non-null  int64 \n",
            " 1   review_id      100000 non-null  object\n",
            " 2   product_id     100000 non-null  object\n",
            " 3   product_title  100000 non-null  object\n",
            "dtypes: int64(1), object(3)\n",
            "memory usage: 3.1+ MB\n"
          ]
        }
      ],
      "source": [
        "df.info()"
      ]
    },
    {
      "cell_type": "markdown",
      "source": [
        "Taking the top 20 products identified by *id* and by *title*, it is possible to note that the number of reviews does not match. This is due to the fact that products with different ids have the same name. Given that each id corresponds to a different page in Amazon, the analysis has been made using *product_id* as the product identifier\n",
        "\n",
        "\n",
        "---\n",
        "\n",
        "\n"
      ],
      "metadata": {
        "id": "iJ_IUlC9Bj1n"
      }
    },
    {
      "cell_type": "code",
      "source": [
        "n = 20\n",
        "print(\"Most reviewed products identified by id:\")\n",
        "df['product_id'].value_counts()[:n]"
      ],
      "metadata": {
        "colab": {
          "base_uri": "https://localhost:8080/"
        },
        "id": "4NgbG_b6Mzqy",
        "outputId": "1a894288-9513-480a-957d-b5420c37bfbb"
      },
      "execution_count": 16,
      "outputs": [
        {
          "output_type": "stream",
          "name": "stdout",
          "text": [
            "Most reviewed products identified by id:\n"
          ]
        },
        {
          "output_type": "execute_result",
          "data": {
            "text/plain": [
              "B00F5NE2KG    513\n",
              "B003EM8008    467\n",
              "B003L1ZYYM    455\n",
              "B000WYVBR0    289\n",
              "B00IF70T4M    271\n",
              "B008KVUAGU    239\n",
              "B0012S4APK    238\n",
              "B00RBIC1IS    237\n",
              "B0001FTVEK    215\n",
              "B00NH126Q0    209\n",
              "B00NC3SU6I    206\n",
              "B00NXET2MM    204\n",
              "B00MITLPX2    179\n",
              "B003WGRUQQ    175\n",
              "B008GVOVK0    173\n",
              "B00K589F8A    173\n",
              "B00WK47VEW    171\n",
              "B00870ZHCQ    166\n",
              "B00RJBW9AM    162\n",
              "B00GZC35YK    161\n",
              "Name: product_id, dtype: int64"
            ]
          },
          "metadata": {},
          "execution_count": 16
        }
      ]
    },
    {
      "cell_type": "code",
      "source": [
        "print(\"Most reviewed products identified by title:\")\n",
        "df['product_title'].value_counts()[:n]"
      ],
      "metadata": {
        "colab": {
          "base_uri": "https://localhost:8080/"
        },
        "id": "b5dIduR67JCu",
        "outputId": "7a692131-d5e7-42bf-d9d8-8ab068be850b"
      },
      "execution_count": 17,
      "outputs": [
        {
          "output_type": "stream",
          "name": "stdout",
          "text": [
            "Most reviewed products identified by title:\n"
          ]
        },
        {
          "output_type": "execute_result",
          "data": {
            "text/plain": [
              "Panasonic ErgoFit In-Ear Earbud Headphone                                                                                                                                                                        1120\n",
              "Bluetooth Speaker, DKnight Magicbox Ultra-Portable Wireless Bluetooth Speaker Powerful Sound with build in Microphone, Works for Cellphone                                                                        778\n",
              "AmazonBasics High-Speed HDMI Cable - 6.5 Feet (2 Meters) Supports Ethernet, 3D, 4K and Audio Return                                                                                                               664\n",
              "AmazonBasics High Speed HDMI Cable                                                                                                                                                                                440\n",
              "1byone Amplified HDTV Antenna, with Detachable Amplifier Signal Booster for the Highest Performance and 10 Feet Coaxial Cable-Black                                                                               418\n",
              "CABTE High speed HDMI 1.4 HDMI cable 10ft 1080p with mesh&filters supports 3D&blue ray                                                                                                                            377\n",
              "VideoSecu ML531BE TV Wall Mount for most 22\"-55\" LED LCD Plasma Flat Screen Monitor up to 88 lb VESA 400x400 with Full Motion Swivel Articulating 20 in Extension Arm, HDMI Cable & Bubble Level WP5              368\n",
              "Omaker M4 Portable Speakers                                                                                                                                                                                       359\n",
              "Belkin 6-Outlet Home and Office Power Strip Surge Protector with 4-Foot Power Cord, 720 Joules (BE106000-04)                                                                                                      289\n",
              "MEElectronics Sport-Fi M6 Noise Isolating In-Ear Headphones with Memory Wire                                                                                                                                      288\n",
              "AmazonBasics Ultra Thin Indoor HDTV Antenna                                                                                                                                                                       268\n",
              "SoundBot SB571 Bluetooth Wireless Speaker 12W Output HD Bass 40mm Dual Driver Portable Speakerphone for 12Hr Enhanced Music Streaming & HandsFree Calling, Built-in Mic, 3.5mm Line-In                            243\n",
              "Mediasonic Homeworx HW110AN Super Thin Indoor HDTV Antenna - 25 Miles Range                                                                                                                                       239\n",
              "Cheetah APTMM2B TV Wall Mount for 20-75\" TVs up to VESA 600 and 165lbs, and fits 16” And 24” Wall Studs, and includes a Tilt TV Bracket, a 10' Twisted Veins HDMI Cable and a 6\" 3-Axis Magnetic Bubble Level     238\n",
              "Bose SoundTrue Headphones On-Ear Style                                                                                                                                                                            226\n",
              "Sentey® In-Ear Headphone Amplitude Series                                                                                                                                                                         225\n",
              "Sennheiser On-Ear 926MHz Wireless RF Headphones with Charging Cradle                                                                                                                                              219\n",
              "Bose SoundLink Mini Bluetooth Speaker II (Pearl)                                                                                                                                                                  218\n",
              "Anker Classic Portable Wireless Bluetooth Speaker, Powerful Sound with Enhanced Bass, 20 Hour Battery Life, and Built-in Mic, works with iPhone, iPad,Nexus, Laptops and More                                     213\n",
              "Bose SoundLink Color Bluetooth Speaker (Black)                                                                                                                                                                    210\n",
              "Name: product_title, dtype: int64"
            ]
          },
          "metadata": {},
          "execution_count": 17
        }
      ]
    },
    {
      "cell_type": "code",
      "source": [
        "df[df[\"product_id\"]==\"B00F5NE2KG\"]"
      ],
      "metadata": {
        "colab": {
          "base_uri": "https://localhost:8080/",
          "height": 424
        },
        "id": "SEftV6q37SJX",
        "outputId": "c1aaaf53-cc10-406c-ebd0-f8bb2538e60e"
      },
      "execution_count": 25,
      "outputs": [
        {
          "output_type": "execute_result",
          "data": {
            "text/plain": [
              "       customer_id       review_id  product_id  \\\n",
              "615        8707213  R13I45DVPTZ4RD  B00F5NE2KG   \n",
              "922       20251357  R2D5TH80MI5DYL  B00F5NE2KG   \n",
              "965       28148518  R2W5D3QRIT9ZUX  B00F5NE2KG   \n",
              "1019      11353946   RH453VRS3J5OE  B00F5NE2KG   \n",
              "1047      13092882  R1IM3R4DDG3XRD  B00F5NE2KG   \n",
              "...            ...             ...         ...   \n",
              "99606       155144  R20IOL01SM7YSG  B00F5NE2KG   \n",
              "99649     48809263  R21VFYCJV8EYO4  B00F5NE2KG   \n",
              "99794     13521172  R3RUMYYP53S0PF  B00F5NE2KG   \n",
              "99810     10860763  R2RMZAO36XSCEI  B00F5NE2KG   \n",
              "99894     44427474  R32AKEM5Y7HIO7  B00F5NE2KG   \n",
              "\n",
              "                                           product_title  \n",
              "615    Bluetooth Speaker, DKnight Magicbox Ultra-Port...  \n",
              "922    Bluetooth Speaker, DKnight Magicbox Ultra-Port...  \n",
              "965    Bluetooth Speaker, DKnight Magicbox Ultra-Port...  \n",
              "1019   Bluetooth Speaker, DKnight Magicbox Ultra-Port...  \n",
              "1047   Bluetooth Speaker, DKnight Magicbox Ultra-Port...  \n",
              "...                                                  ...  \n",
              "99606  Bluetooth Speaker, DKnight Magicbox Ultra-Port...  \n",
              "99649  Bluetooth Speaker, DKnight Magicbox Ultra-Port...  \n",
              "99794  Bluetooth Speaker, DKnight Magicbox Ultra-Port...  \n",
              "99810  Bluetooth Speaker, DKnight Magicbox Ultra-Port...  \n",
              "99894  Bluetooth Speaker, DKnight Magicbox Ultra-Port...  \n",
              "\n",
              "[513 rows x 4 columns]"
            ],
            "text/html": [
              "\n",
              "  <div id=\"df-aeb3c067-dd84-468c-aa97-aea74fa280ec\">\n",
              "    <div class=\"colab-df-container\">\n",
              "      <div>\n",
              "<style scoped>\n",
              "    .dataframe tbody tr th:only-of-type {\n",
              "        vertical-align: middle;\n",
              "    }\n",
              "\n",
              "    .dataframe tbody tr th {\n",
              "        vertical-align: top;\n",
              "    }\n",
              "\n",
              "    .dataframe thead th {\n",
              "        text-align: right;\n",
              "    }\n",
              "</style>\n",
              "<table border=\"1\" class=\"dataframe\">\n",
              "  <thead>\n",
              "    <tr style=\"text-align: right;\">\n",
              "      <th></th>\n",
              "      <th>customer_id</th>\n",
              "      <th>review_id</th>\n",
              "      <th>product_id</th>\n",
              "      <th>product_title</th>\n",
              "    </tr>\n",
              "  </thead>\n",
              "  <tbody>\n",
              "    <tr>\n",
              "      <th>615</th>\n",
              "      <td>8707213</td>\n",
              "      <td>R13I45DVPTZ4RD</td>\n",
              "      <td>B00F5NE2KG</td>\n",
              "      <td>Bluetooth Speaker, DKnight Magicbox Ultra-Port...</td>\n",
              "    </tr>\n",
              "    <tr>\n",
              "      <th>922</th>\n",
              "      <td>20251357</td>\n",
              "      <td>R2D5TH80MI5DYL</td>\n",
              "      <td>B00F5NE2KG</td>\n",
              "      <td>Bluetooth Speaker, DKnight Magicbox Ultra-Port...</td>\n",
              "    </tr>\n",
              "    <tr>\n",
              "      <th>965</th>\n",
              "      <td>28148518</td>\n",
              "      <td>R2W5D3QRIT9ZUX</td>\n",
              "      <td>B00F5NE2KG</td>\n",
              "      <td>Bluetooth Speaker, DKnight Magicbox Ultra-Port...</td>\n",
              "    </tr>\n",
              "    <tr>\n",
              "      <th>1019</th>\n",
              "      <td>11353946</td>\n",
              "      <td>RH453VRS3J5OE</td>\n",
              "      <td>B00F5NE2KG</td>\n",
              "      <td>Bluetooth Speaker, DKnight Magicbox Ultra-Port...</td>\n",
              "    </tr>\n",
              "    <tr>\n",
              "      <th>1047</th>\n",
              "      <td>13092882</td>\n",
              "      <td>R1IM3R4DDG3XRD</td>\n",
              "      <td>B00F5NE2KG</td>\n",
              "      <td>Bluetooth Speaker, DKnight Magicbox Ultra-Port...</td>\n",
              "    </tr>\n",
              "    <tr>\n",
              "      <th>...</th>\n",
              "      <td>...</td>\n",
              "      <td>...</td>\n",
              "      <td>...</td>\n",
              "      <td>...</td>\n",
              "    </tr>\n",
              "    <tr>\n",
              "      <th>99606</th>\n",
              "      <td>155144</td>\n",
              "      <td>R20IOL01SM7YSG</td>\n",
              "      <td>B00F5NE2KG</td>\n",
              "      <td>Bluetooth Speaker, DKnight Magicbox Ultra-Port...</td>\n",
              "    </tr>\n",
              "    <tr>\n",
              "      <th>99649</th>\n",
              "      <td>48809263</td>\n",
              "      <td>R21VFYCJV8EYO4</td>\n",
              "      <td>B00F5NE2KG</td>\n",
              "      <td>Bluetooth Speaker, DKnight Magicbox Ultra-Port...</td>\n",
              "    </tr>\n",
              "    <tr>\n",
              "      <th>99794</th>\n",
              "      <td>13521172</td>\n",
              "      <td>R3RUMYYP53S0PF</td>\n",
              "      <td>B00F5NE2KG</td>\n",
              "      <td>Bluetooth Speaker, DKnight Magicbox Ultra-Port...</td>\n",
              "    </tr>\n",
              "    <tr>\n",
              "      <th>99810</th>\n",
              "      <td>10860763</td>\n",
              "      <td>R2RMZAO36XSCEI</td>\n",
              "      <td>B00F5NE2KG</td>\n",
              "      <td>Bluetooth Speaker, DKnight Magicbox Ultra-Port...</td>\n",
              "    </tr>\n",
              "    <tr>\n",
              "      <th>99894</th>\n",
              "      <td>44427474</td>\n",
              "      <td>R32AKEM5Y7HIO7</td>\n",
              "      <td>B00F5NE2KG</td>\n",
              "      <td>Bluetooth Speaker, DKnight Magicbox Ultra-Port...</td>\n",
              "    </tr>\n",
              "  </tbody>\n",
              "</table>\n",
              "<p>513 rows × 4 columns</p>\n",
              "</div>\n",
              "      <button class=\"colab-df-convert\" onclick=\"convertToInteractive('df-aeb3c067-dd84-468c-aa97-aea74fa280ec')\"\n",
              "              title=\"Convert this dataframe to an interactive table.\"\n",
              "              style=\"display:none;\">\n",
              "        \n",
              "  <svg xmlns=\"http://www.w3.org/2000/svg\" height=\"24px\"viewBox=\"0 0 24 24\"\n",
              "       width=\"24px\">\n",
              "    <path d=\"M0 0h24v24H0V0z\" fill=\"none\"/>\n",
              "    <path d=\"M18.56 5.44l.94 2.06.94-2.06 2.06-.94-2.06-.94-.94-2.06-.94 2.06-2.06.94zm-11 1L8.5 8.5l.94-2.06 2.06-.94-2.06-.94L8.5 2.5l-.94 2.06-2.06.94zm10 10l.94 2.06.94-2.06 2.06-.94-2.06-.94-.94-2.06-.94 2.06-2.06.94z\"/><path d=\"M17.41 7.96l-1.37-1.37c-.4-.4-.92-.59-1.43-.59-.52 0-1.04.2-1.43.59L10.3 9.45l-7.72 7.72c-.78.78-.78 2.05 0 2.83L4 21.41c.39.39.9.59 1.41.59.51 0 1.02-.2 1.41-.59l7.78-7.78 2.81-2.81c.8-.78.8-2.07 0-2.86zM5.41 20L4 18.59l7.72-7.72 1.47 1.35L5.41 20z\"/>\n",
              "  </svg>\n",
              "      </button>\n",
              "      \n",
              "  <style>\n",
              "    .colab-df-container {\n",
              "      display:flex;\n",
              "      flex-wrap:wrap;\n",
              "      gap: 12px;\n",
              "    }\n",
              "\n",
              "    .colab-df-convert {\n",
              "      background-color: #E8F0FE;\n",
              "      border: none;\n",
              "      border-radius: 50%;\n",
              "      cursor: pointer;\n",
              "      display: none;\n",
              "      fill: #1967D2;\n",
              "      height: 32px;\n",
              "      padding: 0 0 0 0;\n",
              "      width: 32px;\n",
              "    }\n",
              "\n",
              "    .colab-df-convert:hover {\n",
              "      background-color: #E2EBFA;\n",
              "      box-shadow: 0px 1px 2px rgba(60, 64, 67, 0.3), 0px 1px 3px 1px rgba(60, 64, 67, 0.15);\n",
              "      fill: #174EA6;\n",
              "    }\n",
              "\n",
              "    [theme=dark] .colab-df-convert {\n",
              "      background-color: #3B4455;\n",
              "      fill: #D2E3FC;\n",
              "    }\n",
              "\n",
              "    [theme=dark] .colab-df-convert:hover {\n",
              "      background-color: #434B5C;\n",
              "      box-shadow: 0px 1px 3px 1px rgba(0, 0, 0, 0.15);\n",
              "      filter: drop-shadow(0px 1px 2px rgba(0, 0, 0, 0.3));\n",
              "      fill: #FFFFFF;\n",
              "    }\n",
              "  </style>\n",
              "\n",
              "      <script>\n",
              "        const buttonEl =\n",
              "          document.querySelector('#df-aeb3c067-dd84-468c-aa97-aea74fa280ec button.colab-df-convert');\n",
              "        buttonEl.style.display =\n",
              "          google.colab.kernel.accessAllowed ? 'block' : 'none';\n",
              "\n",
              "        async function convertToInteractive(key) {\n",
              "          const element = document.querySelector('#df-aeb3c067-dd84-468c-aa97-aea74fa280ec');\n",
              "          const dataTable =\n",
              "            await google.colab.kernel.invokeFunction('convertToInteractive',\n",
              "                                                     [key], {});\n",
              "          if (!dataTable) return;\n",
              "\n",
              "          const docLinkHtml = 'Like what you see? Visit the ' +\n",
              "            '<a target=\"_blank\" href=https://colab.research.google.com/notebooks/data_table.ipynb>data table notebook</a>'\n",
              "            + ' to learn more about interactive tables.';\n",
              "          element.innerHTML = '';\n",
              "          dataTable['output_type'] = 'display_data';\n",
              "          await google.colab.output.renderOutput(dataTable, element);\n",
              "          const docLink = document.createElement('div');\n",
              "          docLink.innerHTML = docLinkHtml;\n",
              "          element.appendChild(docLink);\n",
              "        }\n",
              "      </script>\n",
              "    </div>\n",
              "  </div>\n",
              "  "
            ]
          },
          "metadata": {},
          "execution_count": 25
        }
      ]
    },
    {
      "cell_type": "code",
      "source": [
        "df[(df[\"product_id\"]==\"B00F5NE2KG\") & (df[\"product_title\"]!= \"Bluetooth Speaker, DKnight Magicbox Ultra-Portable Wireless Bluetooth Speaker Powerful Sound with build in Microphone, Works for Cellphone\")]"
      ],
      "metadata": {
        "colab": {
          "base_uri": "https://localhost:8080/",
          "height": 49
        },
        "id": "EZWes3068zbd",
        "outputId": "f4c19649-63dd-4a0c-a8ae-989c96cdd52a"
      },
      "execution_count": 26,
      "outputs": [
        {
          "output_type": "execute_result",
          "data": {
            "text/plain": [
              "Empty DataFrame\n",
              "Columns: [customer_id, review_id, product_id, product_title]\n",
              "Index: []"
            ],
            "text/html": [
              "\n",
              "  <div id=\"df-1e5b8013-1232-4188-b952-641c6cb6a169\">\n",
              "    <div class=\"colab-df-container\">\n",
              "      <div>\n",
              "<style scoped>\n",
              "    .dataframe tbody tr th:only-of-type {\n",
              "        vertical-align: middle;\n",
              "    }\n",
              "\n",
              "    .dataframe tbody tr th {\n",
              "        vertical-align: top;\n",
              "    }\n",
              "\n",
              "    .dataframe thead th {\n",
              "        text-align: right;\n",
              "    }\n",
              "</style>\n",
              "<table border=\"1\" class=\"dataframe\">\n",
              "  <thead>\n",
              "    <tr style=\"text-align: right;\">\n",
              "      <th></th>\n",
              "      <th>customer_id</th>\n",
              "      <th>review_id</th>\n",
              "      <th>product_id</th>\n",
              "      <th>product_title</th>\n",
              "    </tr>\n",
              "  </thead>\n",
              "  <tbody>\n",
              "  </tbody>\n",
              "</table>\n",
              "</div>\n",
              "      <button class=\"colab-df-convert\" onclick=\"convertToInteractive('df-1e5b8013-1232-4188-b952-641c6cb6a169')\"\n",
              "              title=\"Convert this dataframe to an interactive table.\"\n",
              "              style=\"display:none;\">\n",
              "        \n",
              "  <svg xmlns=\"http://www.w3.org/2000/svg\" height=\"24px\"viewBox=\"0 0 24 24\"\n",
              "       width=\"24px\">\n",
              "    <path d=\"M0 0h24v24H0V0z\" fill=\"none\"/>\n",
              "    <path d=\"M18.56 5.44l.94 2.06.94-2.06 2.06-.94-2.06-.94-.94-2.06-.94 2.06-2.06.94zm-11 1L8.5 8.5l.94-2.06 2.06-.94-2.06-.94L8.5 2.5l-.94 2.06-2.06.94zm10 10l.94 2.06.94-2.06 2.06-.94-2.06-.94-.94-2.06-.94 2.06-2.06.94z\"/><path d=\"M17.41 7.96l-1.37-1.37c-.4-.4-.92-.59-1.43-.59-.52 0-1.04.2-1.43.59L10.3 9.45l-7.72 7.72c-.78.78-.78 2.05 0 2.83L4 21.41c.39.39.9.59 1.41.59.51 0 1.02-.2 1.41-.59l7.78-7.78 2.81-2.81c.8-.78.8-2.07 0-2.86zM5.41 20L4 18.59l7.72-7.72 1.47 1.35L5.41 20z\"/>\n",
              "  </svg>\n",
              "      </button>\n",
              "      \n",
              "  <style>\n",
              "    .colab-df-container {\n",
              "      display:flex;\n",
              "      flex-wrap:wrap;\n",
              "      gap: 12px;\n",
              "    }\n",
              "\n",
              "    .colab-df-convert {\n",
              "      background-color: #E8F0FE;\n",
              "      border: none;\n",
              "      border-radius: 50%;\n",
              "      cursor: pointer;\n",
              "      display: none;\n",
              "      fill: #1967D2;\n",
              "      height: 32px;\n",
              "      padding: 0 0 0 0;\n",
              "      width: 32px;\n",
              "    }\n",
              "\n",
              "    .colab-df-convert:hover {\n",
              "      background-color: #E2EBFA;\n",
              "      box-shadow: 0px 1px 2px rgba(60, 64, 67, 0.3), 0px 1px 3px 1px rgba(60, 64, 67, 0.15);\n",
              "      fill: #174EA6;\n",
              "    }\n",
              "\n",
              "    [theme=dark] .colab-df-convert {\n",
              "      background-color: #3B4455;\n",
              "      fill: #D2E3FC;\n",
              "    }\n",
              "\n",
              "    [theme=dark] .colab-df-convert:hover {\n",
              "      background-color: #434B5C;\n",
              "      box-shadow: 0px 1px 3px 1px rgba(0, 0, 0, 0.15);\n",
              "      filter: drop-shadow(0px 1px 2px rgba(0, 0, 0, 0.3));\n",
              "      fill: #FFFFFF;\n",
              "    }\n",
              "  </style>\n",
              "\n",
              "      <script>\n",
              "        const buttonEl =\n",
              "          document.querySelector('#df-1e5b8013-1232-4188-b952-641c6cb6a169 button.colab-df-convert');\n",
              "        buttonEl.style.display =\n",
              "          google.colab.kernel.accessAllowed ? 'block' : 'none';\n",
              "\n",
              "        async function convertToInteractive(key) {\n",
              "          const element = document.querySelector('#df-1e5b8013-1232-4188-b952-641c6cb6a169');\n",
              "          const dataTable =\n",
              "            await google.colab.kernel.invokeFunction('convertToInteractive',\n",
              "                                                     [key], {});\n",
              "          if (!dataTable) return;\n",
              "\n",
              "          const docLinkHtml = 'Like what you see? Visit the ' +\n",
              "            '<a target=\"_blank\" href=https://colab.research.google.com/notebooks/data_table.ipynb>data table notebook</a>'\n",
              "            + ' to learn more about interactive tables.';\n",
              "          element.innerHTML = '';\n",
              "          dataTable['output_type'] = 'display_data';\n",
              "          await google.colab.output.renderOutput(dataTable, element);\n",
              "          const docLink = document.createElement('div');\n",
              "          docLink.innerHTML = docLinkHtml;\n",
              "          element.appendChild(docLink);\n",
              "        }\n",
              "      </script>\n",
              "    </div>\n",
              "  </div>\n",
              "  "
            ]
          },
          "metadata": {},
          "execution_count": 26
        }
      ]
    },
    {
      "cell_type": "code",
      "source": [
        "df['product_id'].value_counts()[:n].plot.bar()"
      ],
      "metadata": {
        "colab": {
          "base_uri": "https://localhost:8080/",
          "height": 535
        },
        "id": "bhc8L3C7bjcD",
        "outputId": "2d363e91-8d21-462c-f2d5-1616a7900cdf"
      },
      "execution_count": 29,
      "outputs": [
        {
          "output_type": "execute_result",
          "data": {
            "text/plain": [
              "<Axes: >"
            ]
          },
          "metadata": {},
          "execution_count": 29
        },
        {
          "output_type": "display_data",
          "data": {
            "text/plain": [
              "<Figure size 640x480 with 1 Axes>"
            ],
            "image/png": "[encoded data removed]"
          },
          "metadata": {}
        }
      ]
    },
    {
      "cell_type": "markdown",
      "source": [
        "## 3. Link Analysis"
      ],
      "metadata": {
        "id": "soDw3MpvD4aE"
      }
    },
    {
      "cell_type": "markdown",
      "source": [
        "The analysis can be done on massive dataset and to save space and time the dataframe is converted in a Spark Dataframe\n",
        "\n",
        "---\n",
        "\n"
      ],
      "metadata": {
        "id": "VJYCuOVPE86V"
      }
    },
    {
      "cell_type": "code",
      "execution_count": 27,
      "metadata": {
        "colab": {
          "base_uri": "https://localhost:8080/"
        },
        "id": "HX2Z8m0kmxMs",
        "outputId": "e0cfd038-94db-447d-a79e-bfbbd70e3655"
      },
      "outputs": [
        {
          "output_type": "stream",
          "name": "stdout",
          "text": [
            "+-----------+--------------+----------+--------------------+\n",
            "|customer_id|     review_id|product_id|       product_title|\n",
            "+-----------+--------------+----------+--------------------+\n",
            "|   41409413|R2MTG1GCZLR2DK|B00428R89M|yoomall 5M Antenn...|\n",
            "|   49668221|R2HBOEM8LE9928|B000068O48|Hosa GPM-103 3.5m...|\n",
            "|   12338275|R1P4RW1R9FDPEE|B000GGKOG8|Channel Master Ti...|\n",
            "|   38487968|R1EBPM82ENI67M|B000NU4OTA|LIMTECH Wall char...|\n",
            "|   23732619|R372S58V6D11AT|B00JOQIO6S|Skullcandy Air Ra...|\n",
            "|   21257820|R1A4514XOYI1PD|B008NCD2LG|Pioneer SP-BS22-L...|\n",
            "|    3084991|R20D9EHB7N20V6|B00007FGUF|C2G/Cables to Go ...|\n",
            "|    8153674|R1WUTD8MVSROJU|B00M9V2RMM|COOLEAD-HDMI Swit...|\n",
            "|   52246189|R1QCYLT25812DM|B00J3O9DYI|Philips Wireless ...|\n",
            "|   41463864| R904DQPBCEM7A|B00NS1A0E4|PlayStation 3 3D ...|\n",
            "|    2781942|R1DGA6UQIVLKZ7|B007B5V092|JVC HAFR201A Xtre...|\n",
            "|     707292| RLQT3V8SMNIBH|B00IODHGVG|Sylvania Alarm Cl...|\n",
            "|   31463514|R3T9GZS2TMXZGM|B0035PBHX6|Coby 8 GB 1.8-Inc...|\n",
            "|   33475055|R24HVAEYP5PLDN|B00K1JJWFO|Diamond (Original...|\n",
            "|   16543871|R32KMAPNV5NJPJ|B00S3LJ5EA|Kingvom 8gb 50 Ho...|\n",
            "|   38472651| RC7VLPHUT6UAF|B00B5QNGN6|JBL Ultra-Portabl...|\n",
            "|   26946211|R3G1II8P4KGUAR|B00PLE8QF6|YIPBOWPT Surface ...|\n",
            "|   10195727|R1UBFCBUALL6S5|B00GHUSIU6|StarTech.com Mini...|\n",
            "|   47386264|R1WI5NISM6GAUG|B0045EJY90|TEAC CD-P650-B Co...|\n",
            "|   13000908|R27F4OF4BIA4LU|B003BT6BM8|Philips SHS8100/2...|\n",
            "+-----------+--------------+----------+--------------------+\n",
            "only showing top 20 rows\n",
            "\n"
          ]
        }
      ],
      "source": [
        "df = df.astype(str)\n",
        "sdf = spark.createDataFrame(df)\n",
        "sdf.show()"
      ]
    },
    {
      "cell_type": "markdown",
      "source": [
        "In this first step, customers who released at least two reviews have been identified and for each of them the corresponding products are listed\n",
        "\n",
        "\n",
        "---\n",
        "\n"
      ],
      "metadata": {
        "id": "QLZIHphSF1uc"
      }
    },
    {
      "cell_type": "code",
      "execution_count": 33,
      "metadata": {
        "id": "z4mDTg_uGA1s"
      },
      "outputs": [],
      "source": [
        "customer_review = sdf.rdd.map(lambda x: (x[0], x[2]))\\\n",
        "                         .groupByKey().map(lambda x : (x[0], list(x[1]))).filter(lambda x: len(x[1])>=2)"
      ]
    },
    {
      "cell_type": "code",
      "execution_count": 34,
      "metadata": {
        "colab": {
          "base_uri": "https://localhost:8080/"
        },
        "id": "eG1OdAvnjnEX",
        "outputId": "ae2372eb-33ac-449c-baa1-5891d736056b"
      },
      "outputs": [
        {
          "output_type": "stream",
          "name": "stdout",
          "text": [
            "(Customer id, [product id]): \n",
            "('2781942', ['B007B5V092', 'B004S7Q8CA'])\n",
            "('31463514', ['B0035PBHX6', 'B002MAPS6W'])\n",
            "('42944532', ['B012VIWG28', 'B00ZWNYF7E', 'B00146E50U', 'B00YDVY34Q'])\n",
            "('15241735', ['B00ESM3ZHG', 'B00JBRZ7U6'])\n",
            "('40862185', ['B007SP2CO2', 'B004QK7HI8'])\n",
            "('52886527', ['B005K2TXMO', 'B005920DVA'])\n",
            "('28453953', ['B000HDONV2', 'B003L1ZYYW', 'B003XM1WE0', 'B005LJQNQU', 'B00269SXT8', 'B002TKS0S8'])\n",
            "('11007967', ['B000N5YF9Y', 'B007WR0CHU'])\n",
            "('46780686', ['B00DDULUIA', 'B00LT3ESZA', 'B0077V88V8'])\n",
            "('2821382', ['B00B20M8CU', 'B00KVVBF7A'])\n",
            "('31364444', ['B00PLCMZ8M', 'B00H7KD4T0', 'B0029U2XH2', 'B00F0WNWZI'])\n",
            "('37536631', ['B00EKTN01S', 'B00KO99GB6', 'B00LT3ESZA', 'B00OH95V8Q'])\n",
            "('4649728', ['B00QOPG5MC', 'B00EPP5ZSS'])\n",
            "('50434152', ['B003OIJHPY', 'B001CROHU4'])\n",
            "('34441121', ['B008R6WVEW', 'B0099UWHH6', 'B00027BU46'])\n",
            "('42495213', ['B0089NLSGU', 'B0081ZBNI4'])\n",
            "('34985475', ['B00CJHXY0U', 'B000WYVBR0'])\n",
            "('31207284', ['B00LBNJANS', 'B000O5N5AI'])\n",
            "('37228369', ['B00EKTN01S', 'B0064SZ5K2', 'B0019EHU8G'])\n",
            "('44744585', ['B007ZCE4OO', 'B007ZQR15E'])\n"
          ]
        }
      ],
      "source": [
        "print(\"(Customer id, [product id]): \")\n",
        "for cr in customer_review.take(20):\n",
        "    print(cr)"
      ]
    },
    {
      "cell_type": "markdown",
      "source": [
        "Products are combined in non ordered tuples. \n",
        "\n",
        "Tuples correspond to the edges, while the distinct products in the tuples are the nodes\n",
        "\n",
        "\n",
        "---\n",
        "\n"
      ],
      "metadata": {
        "id": "R8DwHw_LHOev"
      }
    },
    {
      "cell_type": "code",
      "execution_count": 35,
      "metadata": {
        "id": "oheVAYkj8RrH"
      },
      "outputs": [],
      "source": [
        "import itertools\n",
        "def combination(row):\n",
        "    l = row[1]\n",
        "    k = row[0]\n",
        "    res1 = [(v[0], v[1]) for v in itertools.combinations(l, 2)]\n",
        "    to_add = []\n",
        "    for x in res1:\n",
        "        to_add.append(tuple(reversed(x)))\n",
        "    return (res1+to_add)"
      ]
    },
    {
      "cell_type": "code",
      "execution_count": 36,
      "metadata": {
        "colab": {
          "base_uri": "https://localhost:8080/"
        },
        "id": "iLNRao5by-lw",
        "outputId": "f2edce3d-4b29-4357-a83b-aedda79d017e"
      },
      "outputs": [
        {
          "output_type": "stream",
          "name": "stdout",
          "text": [
            "Tuples of products reviewed at least once by the same customer id:\n",
            "('B007B5V092', 'B004S7Q8CA')\n",
            "('B004S7Q8CA', 'B007B5V092')\n",
            "('B0035PBHX6', 'B002MAPS6W')\n",
            "('B002MAPS6W', 'B0035PBHX6')\n",
            "('B012VIWG28', 'B00ZWNYF7E')\n",
            "('B012VIWG28', 'B00146E50U')\n",
            "('B012VIWG28', 'B00YDVY34Q')\n",
            "('B00ZWNYF7E', 'B00146E50U')\n",
            "('B00ZWNYF7E', 'B00YDVY34Q')\n",
            "('B00146E50U', 'B00YDVY34Q')\n",
            "('B00ZWNYF7E', 'B012VIWG28')\n",
            "('B00146E50U', 'B012VIWG28')\n",
            "('B00YDVY34Q', 'B012VIWG28')\n",
            "('B00146E50U', 'B00ZWNYF7E')\n",
            "('B00YDVY34Q', 'B00ZWNYF7E')\n",
            "('B00YDVY34Q', 'B00146E50U')\n",
            "('B00ESM3ZHG', 'B00JBRZ7U6')\n",
            "('B00JBRZ7U6', 'B00ESM3ZHG')\n",
            "('B007SP2CO2', 'B004QK7HI8')\n",
            "('B004QK7HI8', 'B007SP2CO2')\n"
          ]
        }
      ],
      "source": [
        "edges = customer_review.map(lambda x: combination(x)).flatMap(lambda l: l)\n",
        "\n",
        "print(\"Tuples of products reviewed at least once by the same customer id:\")\n",
        "for e in edges.take(20):\n",
        "    print(e)"
      ]
    },
    {
      "cell_type": "code",
      "execution_count": 37,
      "metadata": {
        "colab": {
          "base_uri": "https://localhost:8080/"
        },
        "id": "nIb3JkVF5UhB",
        "outputId": "9ccd268e-47e0-4348-8677-bd8b4d94d026"
      },
      "outputs": [
        {
          "output_type": "stream",
          "name": "stdout",
          "text": [
            "Number of edges: 56144\n",
            "Number of nodes: 11870\n"
          ]
        }
      ],
      "source": [
        "print(\"Number of edges:\", edges.count())\n",
        "print(\"Number of nodes:\", edges.groupByKey().count())\n",
        "\n",
        "nodes = edges.groupByKey().count()"
      ]
    },
    {
      "cell_type": "markdown",
      "source": [
        "For each node, the number of outgoing connections to other nodes is computed\n",
        "\n",
        "\n",
        "---\n"
      ],
      "metadata": {
        "id": "J_XuEEeOKkoQ"
      }
    },
    {
      "cell_type": "code",
      "execution_count": 38,
      "metadata": {
        "colab": {
          "base_uri": "https://localhost:8080/"
        },
        "id": "n9CUSQLKhcv4",
        "outputId": "4f3e32c1-9701-4560-a64b-025bc90777e8"
      },
      "outputs": [
        {
          "output_type": "stream",
          "name": "stdout",
          "text": [
            "Out degree for 20 different nodes:\n",
            "('B003L1ZYYM', 352)\n",
            "('B000J2EN4S', 173)\n",
            "('B003EM8008', 163)\n",
            "('B000WYVBR0', 162)\n",
            "('B00BEWF4R2', 154)\n",
            "('B0012S4APK', 150)\n",
            "('B001GTT0VO', 148)\n",
            "('B00870ZHCQ', 139)\n",
            "('B0002L5R78', 134)\n",
            "('B0052SCU8U', 131)\n",
            "('B000IJY8DS', 129)\n",
            "('B006LW0W5Y', 129)\n",
            "('B008KVUAGU', 114)\n",
            "('B001TH7GSW', 110)\n",
            "('B00DDULUIA', 109)\n",
            "('B003L1ZYYW', 107)\n",
            "('B006U3O566', 105)\n",
            "('B003ZDNZSI', 104)\n",
            "('B001EPVOQY', 96)\n",
            "('B00FX6ST8G', 91)\n"
          ]
        }
      ],
      "source": [
        "id2degree = edges.countByKey()\n",
        "id2degree_list = sorted(id2degree.items(), key=lambda x: x[1], reverse=True)\n",
        "\n",
        "print(\"Out degree for 20 different nodes:\")\n",
        "for e in id2degree_list [:20]:\n",
        "    print(e)"
      ]
    },
    {
      "cell_type": "markdown",
      "source": [
        "The probabilities of going from one node to the other is calculated. If the probability is equal to one, it means that a node has only one outgoing link. \n",
        "\n",
        "\n",
        "---\n"
      ],
      "metadata": {
        "id": "wHgdCK3nL1VN"
      }
    },
    {
      "cell_type": "code",
      "execution_count": 41,
      "metadata": {
        "id": "3Cmld57Kjgiu",
        "colab": {
          "base_uri": "https://localhost:8080/"
        },
        "outputId": "0ea6ba54-b01a-4a5d-9398-fc9683e9ff38"
      },
      "outputs": [
        {
          "output_type": "stream",
          "name": "stdout",
          "text": [
            "First 20 matrix entries:\n",
            "('B004S7Q8CA', 'B007B5V092', 1.0)\n",
            "('B007B5V092', 'B004S7Q8CA', 0.14285714285714285)\n",
            "('B002MAPS6W', 'B0035PBHX6', 0.2)\n",
            "('B0035PBHX6', 'B002MAPS6W', 0.03571428571428571)\n",
            "('B00ZWNYF7E', 'B012VIWG28', 0.1)\n",
            "('B00146E50U', 'B012VIWG28', 0.1)\n",
            "('B00YDVY34Q', 'B012VIWG28', 0.1)\n",
            "('B00146E50U', 'B00ZWNYF7E', 0.2)\n",
            "('B00YDVY34Q', 'B00ZWNYF7E', 0.2)\n",
            "('B00YDVY34Q', 'B00146E50U', 0.25)\n",
            "('B012VIWG28', 'B00ZWNYF7E', 0.2)\n",
            "('B012VIWG28', 'B00146E50U', 0.25)\n",
            "('B012VIWG28', 'B00YDVY34Q', 0.045454545454545456)\n",
            "('B00ZWNYF7E', 'B00146E50U', 0.25)\n",
            "('B00ZWNYF7E', 'B00YDVY34Q', 0.045454545454545456)\n",
            "('B00146E50U', 'B00YDVY34Q', 0.045454545454545456)\n",
            "('B00JBRZ7U6', 'B00ESM3ZHG', 1.0)\n",
            "('B00ESM3ZHG', 'B00JBRZ7U6', 1.0)\n",
            "('B004QK7HI8', 'B007SP2CO2', 0.06666666666666667)\n",
            "('B007SP2CO2', 'B004QK7HI8', 0.03125)\n"
          ]
        }
      ],
      "source": [
        "P = edges.map(lambda x:(x[0],x[1],1/id2degree[x[0]]))  #(i,j,W) where i: starting node, j: end node, W: probaility from i to j\n",
        "PT = P.map(lambda x: (x[1],x[0],x[2])) #(j,i,W) it's like considering the matrix by columns (for the multiplication by the vector)\n",
        "\n",
        "print(\"First 20 matrix entries:\")\n",
        "for p in PT.take(20):\n",
        "    print(p)"
      ]
    },
    {
      "cell_type": "markdown",
      "source": [
        "The initial random walk vector is calculated. In the first iteration, the probability of being in one node is the same as being in any other node\n",
        "\n",
        "\n",
        "---"
      ],
      "metadata": {
        "id": "cAm6cl95Nh9U"
      }
    },
    {
      "cell_type": "code",
      "source": [
        "p = 1/(nodes) \n",
        "products = customer_review.flatMap(lambda x: x[1]).collect() #products are listed\n",
        "\n",
        "#a product dictionary has been created: \n",
        "#in this way each product corresponds to the key, and the value is the corresponding probability\n",
        "pdiz = {}\n",
        "for prod in products:\n",
        "    pdiz[prod] = p"
      ],
      "metadata": {
        "id": "2zVy_1vxexDx"
      },
      "execution_count": 40,
      "outputs": []
    },
    {
      "cell_type": "markdown",
      "source": [
        "The values of the \"matrix\" PT are multiplied by the random walk vector and the result is another vector which will multiplicate again the PT matrix. After a certain number of iteration the vectors will converge\n",
        "\n",
        "\n",
        "---\n",
        "\n",
        "\n"
      ],
      "metadata": {
        "id": "Dw0JLq_WP_0x"
      }
    },
    {
      "cell_type": "code",
      "source": [
        "for i in range(100):\n",
        "    new_p = PT.map(lambda x:(x[0],(x[2]*pdiz[x[1]])))\\\n",
        "              .reduceByKey(lambda x,y: x+y)\\\n",
        "              .collect()\n",
        "    for idx,prb in new_p:\n",
        "        pdiz[idx] = prb"
      ],
      "metadata": {
        "id": "fAjr9ymrkX-h"
      },
      "execution_count": 42,
      "outputs": []
    },
    {
      "cell_type": "code",
      "source": [
        "pdiz_sort = sorted(pdiz.items(), key=lambda x:x[1], reverse=True) "
      ],
      "metadata": {
        "id": "cT_SG-jkoWHS"
      },
      "execution_count": 43,
      "outputs": []
    },
    {
      "cell_type": "markdown",
      "source": [
        "Products are sorted based on their PageRank value\n",
        "\n",
        "\n",
        "---\n",
        "\n",
        "\n"
      ],
      "metadata": {
        "id": "Z15M5hRkW8cm"
      }
    },
    {
      "cell_type": "code",
      "source": [
        "for pr in range(len(pdiz_sort[:20])):\n",
        "    print(\"PageRank value: \", pdiz_sort[pr][1], \"- Product: \", pdiz_sort[pr][0])"
      ],
      "metadata": {
        "colab": {
          "base_uri": "https://localhost:8080/"
        },
        "id": "jSSU21lfotlB",
        "outputId": "d63ce8df-8073-4873-e871-d303ba453586"
      },
      "execution_count": 45,
      "outputs": [
        {
          "output_type": "stream",
          "name": "stdout",
          "text": [
            "PageRank value:  0.005213729578490573 - Product:  B003L1ZYYM\n",
            "PageRank value:  0.002562183240016608 - Product:  B000J2EN4S\n",
            "PageRank value:  0.0024141454491018993 - Product:  B003EM8008\n",
            "PageRank value:  0.002399413031408523 - Product:  B000WYVBR0\n",
            "PageRank value:  0.0022806791316289637 - Product:  B00BEWF4R2\n",
            "PageRank value:  0.0022216503999907696 - Product:  B0012S4APK\n",
            "PageRank value:  0.002191427030863916 - Product:  B001GTT0VO\n",
            "PageRank value:  0.00205903340446627 - Product:  B00870ZHCQ\n",
            "PageRank value:  0.001984874626185207 - Product:  B0002L5R78\n",
            "PageRank value:  0.0019405194487864608 - Product:  B0052SCU8U\n",
            "PageRank value:  0.001910877916047343 - Product:  B006LW0W5Y\n",
            "PageRank value:  0.001910816360020033 - Product:  B000IJY8DS\n",
            "PageRank value:  0.0016886603311700693 - Product:  B008KVUAGU\n",
            "PageRank value:  0.0016289205192776411 - Product:  B001TH7GSW\n",
            "PageRank value:  0.0016141132788244617 - Product:  B00DDULUIA\n",
            "PageRank value:  0.001584759171379623 - Product:  B003L1ZYYW\n",
            "PageRank value:  0.0015552960938463476 - Product:  B006U3O566\n",
            "PageRank value:  0.0015397845539595893 - Product:  B003ZDNZSI\n",
            "PageRank value:  0.0014226773921441342 - Product:  B001EPVOQY\n",
            "PageRank value:  0.0013479797467278187 - Product:  B00FX6ST8G\n"
          ]
        }
      ]
    },
    {
      "cell_type": "code",
      "execution_count": 44,
      "metadata": {
        "id": "va-yb75i9m3l"
      },
      "outputs": [],
      "source": [
        "id_title = sdf.rdd.map(lambda x: (x[2], x[3]))\\\n",
        "                .reduceByKey(lambda x, y: x)\\\n",
        "                .collectAsMap()\n"
      ]
    },
    {
      "cell_type": "code",
      "source": [
        "for item in pdiz_sort[:20]:\n",
        "    product_id = item[0]\n",
        "    page_rank_value = item[1]\n",
        "    product_title = id_title.get(product_id)\n",
        "    print(\"PageRank value:\", page_rank_value, \"- Product:\", product_title)"
      ],
      "metadata": {
        "colab": {
          "base_uri": "https://localhost:8080/"
        },
        "id": "DjSDUR0_XYbI",
        "outputId": "71ca004f-25ec-4345-9650-553d6d68e21d"
      },
      "execution_count": 48,
      "outputs": [
        {
          "output_type": "stream",
          "name": "stdout",
          "text": [
            "PageRank value: 0.005213729578490573 - Product: AmazonBasics High-Speed HDMI Cable - 6.5 Feet (2 Meters) Supports Ethernet, 3D, 4K and Audio Return\n",
            "PageRank value: 0.002562183240016608 - Product: Belkin 6-Outlet Home and Office Power Strip Surge Protector with 4-Foot Power Cord, 720 Joules (BE106000-04)\n",
            "PageRank value: 0.0024141454491018993 - Product: Panasonic ErgoFit In-Ear Earbud Headphone\n",
            "PageRank value: 0.002399413031408523 - Product: VideoSecu ML531BE TV Wall Mount for most 22\"-55\" LED LCD Plasma Flat Screen Monitor up to 88 lb VESA 400x400 with Full Motion Swivel Articulating 20 in Extension Arm, HDMI Cable & Bubble Level WP5\n",
            "PageRank value: 0.0022806791316289637 - Product: CABTE High speed HDMI 1.4 HDMI cable 10ft 1080p with mesh&filters supports 3D&blue ray\n",
            "PageRank value: 0.0022216503999907696 - Product: Cheetah APTMM2B TV Wall Mount for 20-75\" TVs up to VESA 600 and 165lbs, and fits 16” And 24” Wall Studs, and includes a Tilt TV Bracket, a 10' Twisted Veins HDMI Cable and a 6\" 3-Axis Magnetic Bubble Level\n",
            "PageRank value: 0.002191427030863916 - Product: Cheetah Mounts ALAMB Articulating Arm (15” Extension) TV Wall Mount Bracket for 12-24” TVs and Displays up to VESA 100 and up to 40lbs, Including a 10’ Twisted Veins HDMI Cable\n",
            "PageRank value: 0.00205903340446627 - Product: AmazonBasics High-Speed HDMI Cable - 3 Feet (0.9 Meter) Supports Ethernet, 3D, 4K and Audio Return\n",
            "PageRank value: 0.001984874626185207 - Product: High Speed HDMI Cable (1.5 Feet) With Ethernet - CL3 Certified - Supports 3D and Audio Return Channel, 1-Pack\n",
            "PageRank value: 0.0019405194487864608 - Product: AmazonBasics High Speed HDMI Cable\n",
            "PageRank value: 0.001910877916047343 - Product: AmazonBasics 16-Gauge Speaker Wire - 100 Feet\n",
            "PageRank value: 0.001910816360020033 - Product: High Speed HDMI Cable Supports Ethernet, 3D and Audio Return\n",
            "PageRank value: 0.0016886603311700693 - Product: Mediasonic Homeworx HW110AN Super Thin Indoor HDTV Antenna - 25 Miles Range\n",
            "PageRank value: 0.0016289205192776411 - Product: AmazonBasics Digital Optical Audio Toslink Cable - 6 Feet (1.8 Meters)\n",
            "PageRank value: 0.0016141132788244617 - Product: Twisted Veins Three (3) Pack of HDMI 90 Degree/Right Angle Connectors/Adapters\n",
            "PageRank value: 0.001584759171379623 - Product: AmazonBasics High Speed HDMI Cable\n",
            "PageRank value: 0.0015552960938463476 - Product: Sewell Direct SW-29863-12 Deadbolt Banana Plugs, 12-Pair\n",
            "PageRank value: 0.0015397845539595893 - Product: Verbatim 700MB 52X 80 Minute Branded Recordable Disc CD-R, 10-Disc 97955\n",
            "PageRank value: 0.0014226773921441342 - Product: PTC Premium Gold Series HDMI hembra/hembra Coupler\n",
            "PageRank value: 0.0013479797467278187 - Product: CABTE High speed HDMI 1.4 HDMI cable 10ft 1080p with mesh&filters supports 3D&blue ray\n"
          ]
        }
      ]
    }
  ],
  "metadata": {
    "colab": {
      "provenance": [],
      "authorship_tag": "ABX9TyNP5T2jjrK/lwqbyazWAmfs",
      "include_colab_link": true
    },
    "kernelspec": {
      "display_name": "Python 3",
      "name": "python3"
    },
    "language_info": {
      "name": "python"
    }
  },
  "nbformat": 4,
  "nbformat_minor": 0
}