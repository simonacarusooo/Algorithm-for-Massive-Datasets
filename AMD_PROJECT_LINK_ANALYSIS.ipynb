{
  "cells": [
    {
      "cell_type": "markdown",
      "metadata": {
        "id": "view-in-github",
        "colab_type": "text"
      },
      "source": [
        "<a href=\"https://colab.research.google.com/github/simonacarusooo/Algorithm-for-Massive-Datasets/blob/main/AMD_PROJECT_LINK_ANALYSIS.ipynb\" target=\"_parent\"><img src=\"https://colab.research.google.com/assets/colab-badge.svg\" alt=\"Open In Colab\"/></a>"
      ]
    },
    {
      "cell_type": "markdown",
      "source": [
        "**DOWNLOADING AND IMPORTING THE DATASET**"
      ],
      "metadata": {
        "id": "MppchwGMgyXb"
      }
    },
    {
      "cell_type": "code",
      "execution_count": null,
      "metadata": {
        "id": "deBZH71YbkSc"
      },
      "outputs": [],
      "source": [
        "import csv\n",
        "import os\n",
        "import pandas as pd   "
      ]
    },
    {
      "cell_type": "code",
      "execution_count": null,
      "metadata": {
        "colab": {
          "base_uri": "https://localhost:8080/"
        },
        "id": "0__jzdEyt9FA",
        "outputId": "188bb8ac-8eb2-4e04-d33d-dd1a8285b5f1"
      },
      "outputs": [
        {
          "output_type": "stream",
          "name": "stdout",
          "text": [
            "amazon-us-customer-reviews-dataset.zip: Skipping, found more recently modified local copy (use --force to force download)\n"
          ]
        }
      ],
      "source": [
        "import os\n",
        "os.environ['KAGGLE_USERNAME'] = \"simonacaruso99\"\n",
        "os.environ['KAGGLE_KEY'] = \"d2755b2b7f8e067ba39d3b46b0cafddd\"\n",
        "!kaggle datasets download -d cynthiarempel/amazon-us-customer-reviews-dataset"
      ]
    },
    {
      "cell_type": "code",
      "execution_count": null,
      "metadata": {
        "colab": {
          "base_uri": "https://localhost:8080/",
          "height": 705
        },
        "id": "T-1H38JihHCb",
        "outputId": "06115616-c76c-49fb-e96d-d44a500f6f14"
      },
      "outputs": [
        {
          "output_type": "stream",
          "name": "stdout",
          "text": [
            "(37000, 16)\n"
          ]
        },
        {
          "output_type": "execute_result",
          "data": {
            "text/plain": [
              "  marketplace customer_id       review_id  product_id product_parent  \\\n",
              "0          US    53096384   R63J84G1LOX6R  1563890119      763187671   \n",
              "1          US    53096399  R1BALOA11Z06MT  1559947608      381720534   \n",
              "2          US    53096332  R1LLAY5W5PZUS4  0671701800      860650224   \n",
              "3          US    53096335  R3R9VTJ82FXECQ  0425132153      624269601   \n",
              "4          US    51747709  R1P5J3FNBWTFXY  0517122707      161411385   \n",
              "\n",
              "                                product_title product_category  star_rating  \\\n",
              "0  The Sandman Vol. 1: Preludes and Nocturnes            Books            4   \n",
              "1          The 22 Immutable Laws of Marketing            Books            4   \n",
              "2                                     Contact            Books            5   \n",
              "3                                  Good Omens            Books            5   \n",
              "4                     A Confederacy of Dunces            Books            5   \n",
              "\n",
              "   helpful_votes  total_votes vine verified_purchase  \\\n",
              "0              0            1    N                 N   \n",
              "1              0            0    N                 N   \n",
              "2              1            2    N                 N   \n",
              "3              0            0    N                 N   \n",
              "4              0            0    N                 N   \n",
              "\n",
              "                                     review_headline  \\\n",
              "0                            ignore the review below   \n",
              "1                                            awesome   \n",
              "2                          Read the book. It's good.   \n",
              "3   Funniest book ever written about the Anti-Christ   \n",
              "4  A winner that didn't last. Only a mothers love...   \n",
              "\n",
              "                                         review_body  \\\n",
              "0  this is the first 8 issues of the series. it i...   \n",
              "1  I've always been partial to immutable laws. Th...   \n",
              "2  This is a book about first contact with aliens...   \n",
              "3  This is quite possibly *the* funniest book I h...   \n",
              "4  The story behind the book is almost better tha...   \n",
              "\n",
              "                                              review review_date  \n",
              "0  ignore the review below this is the first 8 is...  1995-08-13  \n",
              "1  awesome I've always been partial to immutable ...  1995-08-17  \n",
              "2  Read the book. It's good. This is a book about...  1995-08-30  \n",
              "3  Funniest book ever written about the Anti-Chri...  1995-09-11  \n",
              "4  A winner that didn't last. Only a mothers love...  1995-10-17  "
            ],
            "text/html": [
              "\n",
              "  <div id=\"df-58189697-abd0-4af9-b1dc-498701652cf8\">\n",
              "    <div class=\"colab-df-container\">\n",
              "      <div>\n",
              "<style scoped>\n",
              "    .dataframe tbody tr th:only-of-type {\n",
              "        vertical-align: middle;\n",
              "    }\n",
              "\n",
              "    .dataframe tbody tr th {\n",
              "        vertical-align: top;\n",
              "    }\n",
              "\n",
              "    .dataframe thead th {\n",
              "        text-align: right;\n",
              "    }\n",
              "</style>\n",
              "<table border=\"1\" class=\"dataframe\">\n",
              "  <thead>\n",
              "    <tr style=\"text-align: right;\">\n",
              "      <th></th>\n",
              "      <th>marketplace</th>\n",
              "      <th>customer_id</th>\n",
              "      <th>review_id</th>\n",
              "      <th>product_id</th>\n",
              "      <th>product_parent</th>\n",
              "      <th>product_title</th>\n",
              "      <th>product_category</th>\n",
              "      <th>star_rating</th>\n",
              "      <th>helpful_votes</th>\n",
              "      <th>total_votes</th>\n",
              "      <th>vine</th>\n",
              "      <th>verified_purchase</th>\n",
              "      <th>review_headline</th>\n",
              "      <th>review_body</th>\n",
              "      <th>review</th>\n",
              "      <th>review_date</th>\n",
              "    </tr>\n",
              "  </thead>\n",
              "  <tbody>\n",
              "    <tr>\n",
              "      <th>0</th>\n",
              "      <td>US</td>\n",
              "      <td>53096384</td>\n",
              "      <td>R63J84G1LOX6R</td>\n",
              "      <td>1563890119</td>\n",
              "      <td>763187671</td>\n",
              "      <td>The Sandman Vol. 1: Preludes and Nocturnes</td>\n",
              "      <td>Books</td>\n",
              "      <td>4</td>\n",
              "      <td>0</td>\n",
              "      <td>1</td>\n",
              "      <td>N</td>\n",
              "      <td>N</td>\n",
              "      <td>ignore the review below</td>\n",
              "      <td>this is the first 8 issues of the series. it i...</td>\n",
              "      <td>ignore the review below this is the first 8 is...</td>\n",
              "      <td>1995-08-13</td>\n",
              "    </tr>\n",
              "    <tr>\n",
              "      <th>1</th>\n",
              "      <td>US</td>\n",
              "      <td>53096399</td>\n",
              "      <td>R1BALOA11Z06MT</td>\n",
              "      <td>1559947608</td>\n",
              "      <td>381720534</td>\n",
              "      <td>The 22 Immutable Laws of Marketing</td>\n",
              "      <td>Books</td>\n",
              "      <td>4</td>\n",
              "      <td>0</td>\n",
              "      <td>0</td>\n",
              "      <td>N</td>\n",
              "      <td>N</td>\n",
              "      <td>awesome</td>\n",
              "      <td>I've always been partial to immutable laws. Th...</td>\n",
              "      <td>awesome I've always been partial to immutable ...</td>\n",
              "      <td>1995-08-17</td>\n",
              "    </tr>\n",
              "    <tr>\n",
              "      <th>2</th>\n",
              "      <td>US</td>\n",
              "      <td>53096332</td>\n",
              "      <td>R1LLAY5W5PZUS4</td>\n",
              "      <td>0671701800</td>\n",
              "      <td>860650224</td>\n",
              "      <td>Contact</td>\n",
              "      <td>Books</td>\n",
              "      <td>5</td>\n",
              "      <td>1</td>\n",
              "      <td>2</td>\n",
              "      <td>N</td>\n",
              "      <td>N</td>\n",
              "      <td>Read the book. It's good.</td>\n",
              "      <td>This is a book about first contact with aliens...</td>\n",
              "      <td>Read the book. It's good. This is a book about...</td>\n",
              "      <td>1995-08-30</td>\n",
              "    </tr>\n",
              "    <tr>\n",
              "      <th>3</th>\n",
              "      <td>US</td>\n",
              "      <td>53096335</td>\n",
              "      <td>R3R9VTJ82FXECQ</td>\n",
              "      <td>0425132153</td>\n",
              "      <td>624269601</td>\n",
              "      <td>Good Omens</td>\n",
              "      <td>Books</td>\n",
              "      <td>5</td>\n",
              "      <td>0</td>\n",
              "      <td>0</td>\n",
              "      <td>N</td>\n",
              "      <td>N</td>\n",
              "      <td>Funniest book ever written about the Anti-Christ</td>\n",
              "      <td>This is quite possibly *the* funniest book I h...</td>\n",
              "      <td>Funniest book ever written about the Anti-Chri...</td>\n",
              "      <td>1995-09-11</td>\n",
              "    </tr>\n",
              "    <tr>\n",
              "      <th>4</th>\n",
              "      <td>US</td>\n",
              "      <td>51747709</td>\n",
              "      <td>R1P5J3FNBWTFXY</td>\n",
              "      <td>0517122707</td>\n",
              "      <td>161411385</td>\n",
              "      <td>A Confederacy of Dunces</td>\n",
              "      <td>Books</td>\n",
              "      <td>5</td>\n",
              "      <td>0</td>\n",
              "      <td>0</td>\n",
              "      <td>N</td>\n",
              "      <td>N</td>\n",
              "      <td>A winner that didn't last. Only a mothers love...</td>\n",
              "      <td>The story behind the book is almost better tha...</td>\n",
              "      <td>A winner that didn't last. Only a mothers love...</td>\n",
              "      <td>1995-10-17</td>\n",
              "    </tr>\n",
              "  </tbody>\n",
              "</table>\n",
              "</div>\n",
              "      <button class=\"colab-df-convert\" onclick=\"convertToInteractive('df-58189697-abd0-4af9-b1dc-498701652cf8')\"\n",
              "              title=\"Convert this dataframe to an interactive table.\"\n",
              "              style=\"display:none;\">\n",
              "        \n",
              "  <svg xmlns=\"http://www.w3.org/2000/svg\" height=\"24px\"viewBox=\"0 0 24 24\"\n",
              "       width=\"24px\">\n",
              "    <path d=\"M0 0h24v24H0V0z\" fill=\"none\"/>\n",
              "    <path d=\"M18.56 5.44l.94 2.06.94-2.06 2.06-.94-2.06-.94-.94-2.06-.94 2.06-2.06.94zm-11 1L8.5 8.5l.94-2.06 2.06-.94-2.06-.94L8.5 2.5l-.94 2.06-2.06.94zm10 10l.94 2.06.94-2.06 2.06-.94-2.06-.94-.94-2.06-.94 2.06-2.06.94z\"/><path d=\"M17.41 7.96l-1.37-1.37c-.4-.4-.92-.59-1.43-.59-.52 0-1.04.2-1.43.59L10.3 9.45l-7.72 7.72c-.78.78-.78 2.05 0 2.83L4 21.41c.39.39.9.59 1.41.59.51 0 1.02-.2 1.41-.59l7.78-7.78 2.81-2.81c.8-.78.8-2.07 0-2.86zM5.41 20L4 18.59l7.72-7.72 1.47 1.35L5.41 20z\"/>\n",
              "  </svg>\n",
              "      </button>\n",
              "      \n",
              "  <style>\n",
              "    .colab-df-container {\n",
              "      display:flex;\n",
              "      flex-wrap:wrap;\n",
              "      gap: 12px;\n",
              "    }\n",
              "\n",
              "    .colab-df-convert {\n",
              "      background-color: #E8F0FE;\n",
              "      border: none;\n",
              "      border-radius: 50%;\n",
              "      cursor: pointer;\n",
              "      display: none;\n",
              "      fill: #1967D2;\n",
              "      height: 32px;\n",
              "      padding: 0 0 0 0;\n",
              "      width: 32px;\n",
              "    }\n",
              "\n",
              "    .colab-df-convert:hover {\n",
              "      background-color: #E2EBFA;\n",
              "      box-shadow: 0px 1px 2px rgba(60, 64, 67, 0.3), 0px 1px 3px 1px rgba(60, 64, 67, 0.15);\n",
              "      fill: #174EA6;\n",
              "    }\n",
              "\n",
              "    [theme=dark] .colab-df-convert {\n",
              "      background-color: #3B4455;\n",
              "      fill: #D2E3FC;\n",
              "    }\n",
              "\n",
              "    [theme=dark] .colab-df-convert:hover {\n",
              "      background-color: #434B5C;\n",
              "      box-shadow: 0px 1px 3px 1px rgba(0, 0, 0, 0.15);\n",
              "      filter: drop-shadow(0px 1px 2px rgba(0, 0, 0, 0.3));\n",
              "      fill: #FFFFFF;\n",
              "    }\n",
              "  </style>\n",
              "\n",
              "      <script>\n",
              "        const buttonEl =\n",
              "          document.querySelector('#df-58189697-abd0-4af9-b1dc-498701652cf8 button.colab-df-convert');\n",
              "        buttonEl.style.display =\n",
              "          google.colab.kernel.accessAllowed ? 'block' : 'none';\n",
              "\n",
              "        async function convertToInteractive(key) {\n",
              "          const element = document.querySelector('#df-58189697-abd0-4af9-b1dc-498701652cf8');\n",
              "          const dataTable =\n",
              "            await google.colab.kernel.invokeFunction('convertToInteractive',\n",
              "                                                     [key], {});\n",
              "          if (!dataTable) return;\n",
              "\n",
              "          const docLinkHtml = 'Like what you see? Visit the ' +\n",
              "            '<a target=\"_blank\" href=https://colab.research.google.com/notebooks/data_table.ipynb>data table notebook</a>'\n",
              "            + ' to learn more about interactive tables.';\n",
              "          element.innerHTML = '';\n",
              "          dataTable['output_type'] = 'display_data';\n",
              "          await google.colab.output.renderOutput(dataTable, element);\n",
              "          const docLink = document.createElement('div');\n",
              "          docLink.innerHTML = docLinkHtml;\n",
              "          element.appendChild(docLink);\n",
              "        }\n",
              "      </script>\n",
              "    </div>\n",
              "  </div>\n",
              "  "
            ]
          },
          "metadata": {},
          "execution_count": 3
        }
      ],
      "source": [
        "import zipfile\n",
        "import pandas as pd\n",
        "\n",
        "#Reading the content of the zip file\n",
        "zip_file = zipfile.ZipFile('/content/amazon-us-customer-reviews-dataset.zip')\n",
        "\n",
        "#Dataframe structure\n",
        "df = pd.DataFrame({'marketplace': pd.Series([], dtype='str'),\n",
        "              'customer_id': pd.Series([], dtype='str'),\n",
        "              'review_id': pd.Series([], dtype='str'),\n",
        "              'product_id': pd.Series([], dtype='str'),\n",
        "              'product_parent': pd.Series([], dtype='str'),\n",
        "              'product_title': pd.Series([], dtype='str'),\n",
        "              'product_category': pd.Series([], dtype='str'),\n",
        "              'star_rating': pd.Series([], dtype='int'),\n",
        "              'helpful_votes': pd.Series([], dtype='int'),\n",
        "              'total_votes': pd.Series([], dtype='int'),\n",
        "              'vine': pd.Series([], dtype='str'),\n",
        "              'verified_purchase': pd.Series([], dtype='str'),\n",
        "              'review_headline': pd.Series([], dtype='str'),\n",
        "              'review_body': pd.Series([], dtype='str'),\n",
        "              'review': pd.Series([], dtype='str'),\n",
        "              'review_date': pd.Series([], dtype='float')})\n",
        "\n",
        "#Selecting products categories tsv files\n",
        "filenames = ['amazon_reviews_multilingual_US_v1_00.tsv','amazon_reviews_us_Apparel_v1_00.tsv','amazon_reviews_us_Automotive_v1_00.tsv', 'amazon_reviews_us_Baby_v1_00.tsv','amazon_reviews_us_Beauty_v1_00.tsv','amazon_reviews_us_Books_v1_02.tsv',\n",
        "             'amazon_reviews_us_Camera_v1_00.tsv','amazon_reviews_us_Digital_Ebook_Purchase_v1_01.tsv','amazon_reviews_us_Digital_Music_Purchase_v1_00.tsv','amazon_reviews_us_Digital_Software_v1_00.tsv','amazon_reviews_us_Digital_Video_Download_v1_00.tsv',\n",
        "             'amazon_reviews_us_Digital_Video_Games_v1_00.tsv','amazon_reviews_us_Electronics_v1_00.tsv','amazon_reviews_us_Furniture_v1_00.tsv','amazon_reviews_us_Gift_Card_v1_00.tsv','amazon_reviews_us_Grocery_v1_00.tsv','amazon_reviews_us_Health_Personal_Care_v1_00.tsv',\n",
        "             'amazon_reviews_us_Major_Appliances_v1_00.tsv','amazon_reviews_us_Mobile_Apps_v1_00.tsv','amazon_reviews_us_Mobile_Electronics_v1_00.tsv','amazon_reviews_us_Music_v1_00.tsv','amazon_reviews_us_Musical_Instruments_v1_00.tsv','amazon_reviews_us_Office_Products_v1_00.tsv',\n",
        "             'amazon_reviews_us_Outdoors_v1_00.tsv','amazon_reviews_us_PC_v1_00.tsv','amazon_reviews_us_Personal_Care_Appliances_v1_00.tsv','amazon_reviews_us_Pet_Products_v1_00.tsv','amazon_reviews_us_Shoes_v1_00.tsv','amazon_reviews_us_Software_v1_00.tsv','amazon_reviews_us_Sports_v1_00.tsv','amazon_reviews_us_Tools_v1_00.tsv',\n",
        "             'amazon_reviews_us_Toys_v1_00.tsv','amazon_reviews_us_Video_DVD_v1_00.tsv','amazon_reviews_us_Video_Games_v1_00.tsv','amazon_reviews_us_Video_v1_00.tsv','amazon_reviews_us_Watches_v1_00.tsv','amazon_reviews_us_Wireless_v1_00.tsv']\n",
        "\n",
        "#Selectin 1000 review for each category\n",
        "for filename in filenames:\n",
        "    with zip_file.open(filename) as f:\n",
        "        size = 1000\n",
        "        data = pd.read_csv(f, sep='\\t', header=0, quoting=csv.QUOTE_NONE, nrows=size)\n",
        "        data['review'] = data['review_headline'] + ' ' + data['review_body']\n",
        "        df = df.append(data, ignore_index=True) \n",
        "\n",
        "print(df.shape)\n",
        "df.head()\n"
      ]
    },
    {
      "cell_type": "markdown",
      "source": [
        "\n",
        "\n",
        "**CREATION OF THE GRAPH**"
      ],
      "metadata": {
        "id": "6yxVrb5Ag5od"
      }
    },
    {
      "cell_type": "code",
      "execution_count": null,
      "metadata": {
        "id": "JaSL83xTk6yh"
      },
      "outputs": [],
      "source": [
        "import networkx as nx\n",
        "import numpy as np"
      ]
    },
    {
      "cell_type": "code",
      "execution_count": null,
      "metadata": {
        "id": "51YUkTFJliLb"
      },
      "outputs": [],
      "source": [
        "#Creation of an empty graph (no nodes and no edges)\n",
        "G = nx.Graph()\n",
        "\n",
        "#Taking the unique values of the column \"product_id\" and use them as nodes\n",
        "for pr_id in df['product_id'].unique():\n",
        "    G.add_node(pr_id)\n",
        "\n",
        "for customer in df['customer_id'].unique():\n",
        "    products = df[df['customer_id'] == customer]['product_id'].unique()\n",
        "    for p1 in products:\n",
        "        for p2 in products:\n",
        "            if p1 != p2:\n",
        "                G.add_edge(p1, p2)"
      ]
    },
    {
      "cell_type": "code",
      "execution_count": null,
      "metadata": {
        "colab": {
          "base_uri": "https://localhost:8080/"
        },
        "id": "-UEoKveVnChF",
        "outputId": "3b4c43e9-2dab-4b90-84ca-e98ad893065a"
      },
      "outputs": [
        {
          "output_type": "execute_result",
          "data": {
            "text/plain": [
              "30107"
            ]
          },
          "metadata": {},
          "execution_count": 6
        }
      ],
      "source": [
        "#Number of nodes\n",
        "G.number_of_nodes()"
      ]
    },
    {
      "cell_type": "code",
      "execution_count": null,
      "metadata": {
        "colab": {
          "base_uri": "https://localhost:8080/"
        },
        "id": "MXRxkvaDqlLt",
        "outputId": "2bd4281d-c11f-4e76-fd17-8e1d80072fbf"
      },
      "outputs": [
        {
          "output_type": "execute_result",
          "data": {
            "text/plain": [
              "21160"
            ]
          },
          "metadata": {},
          "execution_count": 7
        }
      ],
      "source": [
        "#Number of links\n",
        "G.number_of_edges()"
      ]
    },
    {
      "cell_type": "markdown",
      "source": [
        "**CREATION OF THE TRANSITION MATRIX**"
      ],
      "metadata": {
        "id": "-2wXhvE9hImX"
      }
    },
    {
      "cell_type": "code",
      "execution_count": null,
      "metadata": {
        "id": "OED4zoATulMT"
      },
      "outputs": [],
      "source": [
        "#Creation of the transition matrix from the graph\n",
        "TM = nx.to_numpy_array(G)"
      ]
    },
    {
      "cell_type": "code",
      "execution_count": null,
      "metadata": {
        "colab": {
          "base_uri": "https://localhost:8080/"
        },
        "id": "PX1b5kVLv2HV",
        "outputId": "65b19a7a-4183-4e56-b93b-58d075776e0c"
      },
      "outputs": [
        {
          "output_type": "execute_result",
          "data": {
            "text/plain": [
              "(30107, 30107)"
            ]
          },
          "metadata": {},
          "execution_count": 9
        }
      ],
      "source": [
        "#Square matrix with nodes ad indexes \n",
        "np.shape(TM)"
      ]
    },
    {
      "cell_type": "code",
      "execution_count": null,
      "metadata": {
        "id": "jErryoAvyNZz",
        "colab": {
          "base_uri": "https://localhost:8080/"
        },
        "outputId": "0d206cce-51b9-4028-8548-fa69f27cf7ed"
      },
      "outputs": [
        {
          "output_type": "execute_result",
          "data": {
            "text/plain": [
              "25465"
            ]
          },
          "metadata": {},
          "execution_count": 11
        }
      ],
      "source": [
        "#Creating a function to check if our matrix is column-wise \n",
        "def check_col_sums(matrix):\n",
        "    num_non_normalized = 0\n",
        "    for col in range(matrix.shape[1]):\n",
        "        col_sum = matrix[:,col].sum()\n",
        "        if col_sum != 1:\n",
        "            num_non_normalized += 1\n",
        "    return num_non_normalized\n",
        "\n",
        "check_col_sums(TM)"
      ]
    },
    {
      "cell_type": "code",
      "source": [
        "#The matrix is not column-wise\n",
        "#Checking for dead ends and counting them\n",
        "len(list(nx.isolates(G)))"
      ],
      "metadata": {
        "colab": {
          "base_uri": "https://localhost:8080/"
        },
        "id": "8UKfTLulxTpY",
        "outputId": "9f8473da-bb69-4f38-ed63-93d203427e5d"
      },
      "execution_count": null,
      "outputs": [
        {
          "output_type": "execute_result",
          "data": {
            "text/plain": [
              "19767"
            ]
          },
          "metadata": {},
          "execution_count": 12
        }
      ]
    },
    {
      "cell_type": "markdown",
      "source": [
        "**DELETING DEAD ENDS AS FIRST APPROACH TO COMPUTE THE PAGERANK ALGORITHM**"
      ],
      "metadata": {
        "id": "MHxGXl2JhQXq"
      }
    },
    {
      "cell_type": "code",
      "source": [
        "#Creation of a new transition matrix by deleting dead ends from the original one\n",
        "G1=G.copy()\n",
        "G1.remove_nodes_from(list(nx.isolates(G1)))"
      ],
      "metadata": {
        "id": "kd8L9YPlPkq2"
      },
      "execution_count": null,
      "outputs": []
    },
    {
      "cell_type": "code",
      "source": [
        "#Shape of the new matrix without dead ends\n",
        "TM_no_dead_nodes = nx.to_numpy_array(G1)\n",
        "np.shape(TM_no_dead_nodes)"
      ],
      "metadata": {
        "colab": {
          "base_uri": "https://localhost:8080/"
        },
        "id": "uysySbCK1mk8",
        "outputId": "ac047124-5107-4076-aa8d-953e301389ae"
      },
      "execution_count": null,
      "outputs": [
        {
          "output_type": "execute_result",
          "data": {
            "text/plain": [
              "(10340, 10340)"
            ]
          },
          "metadata": {},
          "execution_count": 14
        }
      ]
    },
    {
      "cell_type": "code",
      "source": [
        "#PageRank computation\n",
        "pageRank1 = nx.pagerank(G1, alpha=0.85, personalization=None, max_iter=10000, tol=1e-06, nstart=None, weight='weight', dangling=None)\n",
        "\n",
        "#Sorting products on the basis of the PageRank in decreasing order \n",
        "pr1_sorted = sorted(pageRank1.items(), key=lambda x: x[1], reverse=True)\n",
        "\n",
        "#Showing the first ten products on the basis of their PageRank\n",
        "for i, (prod, rank) in enumerate(pr1_sorted[:10]):\n",
        "    id_correspondence = df.loc[df[\"product_id\"] == prod]\n",
        "    if not id_correspondence.empty:\n",
        "        title = id_correspondence.iloc[0][\"product_title\"]\n",
        "        category = id_correspondence.iloc[0][\"product_category\"]\n",
        "        print(\"Category:\",category, \"-\", title, \" - PageRank value:\",round(rank,5))\n"
      ],
      "metadata": {
        "colab": {
          "base_uri": "https://localhost:8080/"
        },
        "id": "yia1-knLs4IR",
        "outputId": "4fda711c-d28b-4a80-c6f0-c645cb308da9"
      },
      "execution_count": null,
      "outputs": [
        {
          "output_type": "stream",
          "name": "stdout",
          "text": [
            "B004LLIKVU 0.0012053680529658893\n",
            "B00IX1I3G6 0.0005109026440581102\n",
            "B004RMK5QG 0.0003821600359552175\n",
            "B00H09BB16 0.00037721043593187773\n",
            "B00H9A60O4 0.0003447424330581667\n",
            "B00MV9EL6M 0.00028812176497696785\n",
            "B00MCLGAAO 0.00026349279562820497\n",
            "B00IY7BNUW 0.00025911919717131545\n",
            "B0009X29WK 0.0002545904503599395\n",
            "B00LC9UU6C 0.0002476274321675711\n"
          ]
        }
      ]
    },
    {
      "cell_type": "markdown",
      "source": [
        "**KEEPING DEAD ENDS AS SECOND APPROACH TO COMPUTE PAGE RANK**"
      ],
      "metadata": {
        "id": "ic4-j77rhbRR"
      }
    },
    {
      "cell_type": "code",
      "source": [
        "#PageRank computation without deleting dead nodes\n",
        "pageRank2 = nx.pagerank(G, alpha=0.85, personalization=None, max_iter=10000, tol=1e-06, nstart=None, weight='weight', dangling=None)\n",
        "pr2_sorted = sorted(pageRank2.items(), key=lambda x: x[1], reverse=True)\n",
        "\n",
        "for i, (prod, rank) in enumerate(pr2_sorted[:10]):\n",
        "    id_correspondence = df.loc[df[\"product_id\"] == prod]\n",
        "    if not id_correspondence.empty:\n",
        "        title = id_correspondence.iloc[0][\"product_title\"]\n",
        "        category = id_correspondence.iloc[0][\"product_category\"]\n",
        "        print(\"Category:\",category, \"-\", title, \" - PageRank value:\",round(rank,5))"
      ],
      "metadata": {
        "colab": {
          "base_uri": "https://localhost:8080/"
        },
        "outputId": "8218db31-a7d4-4aa5-e7e8-ccf5500fbd03",
        "id": "I2cSrEJKlvNO"
      },
      "execution_count": null,
      "outputs": [
        {
          "output_type": "stream",
          "name": "stdout",
          "text": [
            "B004LLIKVU 0.0009178036985504536\n",
            "B00IX1I3G6 0.00038657596189404586\n",
            "B004RMK5QG 0.0002897827692132318\n",
            "B00H09BB16 0.00028178149344370977\n",
            "B00H9A60O4 0.00023937027432919188\n",
            "B00MV9EL6M 0.00021873705801196415\n",
            "B00MCLGAAO 0.00019962589193164309\n",
            "B00IY7BNUW 0.00019469902913515325\n",
            "B0009X29WK 0.00019401191192324708\n",
            "B004XNK7AI 0.00018821493846207153\n"
          ]
        }
      ]
    }
  ],
  "metadata": {
    "colab": {
      "provenance": [],
      "authorship_tag": "ABX9TyMhD/r4KQdvUiOx7DfiB6OY",
      "include_colab_link": true
    },
    "kernelspec": {
      "display_name": "Python 3",
      "name": "python3"
    },
    "language_info": {
      "name": "python"
    }
  },
  "nbformat": 4,
  "nbformat_minor": 0
}